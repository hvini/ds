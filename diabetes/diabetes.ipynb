{
 "cells": [
  {
   "cell_type": "code",
   "execution_count": 157,
   "metadata": {},
   "outputs": [],
   "source": [
    "from sklearn.metrics import mean_absolute_error, mean_squared_error, r2_score\n",
    "from sklearn.model_selection import KFold, cross_val_score\n",
    "from statsmodels.stats.multicomp import MultiComparison\n",
    "from sklearn.model_selection import train_test_split\n",
    "from statsmodels.stats.anova import AnovaRM\n",
    "from sklearn.datasets import load_diabetes\n",
    "from sklearn.dummy import DummyRegressor\n",
    "from scipy.stats import ttest_rel\n",
    "import matplotlib.pyplot as plt\n",
    "import dataframe_image as dfi\n",
    "import seaborn as sns\n",
    "import pandas as pd\n",
    "import numpy as np"
   ]
  },
  {
   "cell_type": "code",
   "execution_count": 123,
   "metadata": {},
   "outputs": [],
   "source": [
    "diabetes = load_diabetes(as_frame=True, scaled=False)"
   ]
  },
  {
   "cell_type": "code",
   "execution_count": 124,
   "metadata": {},
   "outputs": [],
   "source": [
    "x = diabetes['data']\n",
    "y = diabetes['target']"
   ]
  },
  {
   "cell_type": "code",
   "execution_count": 125,
   "metadata": {},
   "outputs": [],
   "source": [
    "x_train, x_test, y_train, y_test = train_test_split(x, y, test_size=0.2, shuffle=True)"
   ]
  },
  {
   "cell_type": "code",
   "execution_count": 126,
   "metadata": {},
   "outputs": [
    {
     "data": {
      "text/plain": [
       "(      age  sex   bmi      bp     s1     s2    s3    s4      s5     s6\n",
       " 224  41.0  1.0  20.2   62.00  153.0   89.0  50.0  3.00  4.2485   89.0\n",
       " 275  47.0  2.0  25.3   98.00  173.0  105.6  44.0  4.00  4.7622  108.0\n",
       " 437  60.0  2.0  28.2  112.00  185.0  113.8  42.0  4.00  4.9836   93.0\n",
       " 158  45.0  1.0  20.3   74.33  190.0  126.2  49.0  3.88  4.3041   79.0\n",
       " 192  64.0  2.0  23.5   97.00  203.0  129.0  59.0  3.00  4.3175   77.0\n",
       " ..    ...  ...   ...     ...    ...    ...   ...   ...     ...    ...\n",
       " 147  33.0  1.0  35.0   89.00  200.0  130.4  42.0  4.76  4.9273  101.0\n",
       " 408  66.0  1.0  21.7  126.00  212.0  127.8  45.0  4.71  5.2781  101.0\n",
       " 382  62.0  1.0  32.0   88.00  172.0   69.0  38.0  4.00  5.7838  100.0\n",
       " 236  56.0  1.0  27.0  105.00  247.0  160.6  54.0  5.00  5.0876   94.0\n",
       " 217  69.0  1.0  29.3  124.00  223.0  139.0  54.0  4.00  5.0106  102.0\n",
       " \n",
       " [353 rows x 10 columns],\n",
       " 224     77.0\n",
       " 275     94.0\n",
       " 437    178.0\n",
       " 158     96.0\n",
       " 192     91.0\n",
       "        ...  \n",
       " 147    128.0\n",
       " 408    189.0\n",
       " 382    132.0\n",
       " 236     67.0\n",
       " 217    296.0\n",
       " Name: target, Length: 353, dtype: float64)"
      ]
     },
     "execution_count": 126,
     "metadata": {},
     "output_type": "execute_result"
    }
   ],
   "source": [
    "x_train, y_train"
   ]
  },
  {
   "cell_type": "code",
   "execution_count": 127,
   "metadata": {},
   "outputs": [
    {
     "data": {
      "text/html": [
       "<div>\n",
       "<style scoped>\n",
       "    .dataframe tbody tr th:only-of-type {\n",
       "        vertical-align: middle;\n",
       "    }\n",
       "\n",
       "    .dataframe tbody tr th {\n",
       "        vertical-align: top;\n",
       "    }\n",
       "\n",
       "    .dataframe thead th {\n",
       "        text-align: right;\n",
       "    }\n",
       "</style>\n",
       "<table border=\"1\" class=\"dataframe\">\n",
       "  <thead>\n",
       "    <tr style=\"text-align: right;\">\n",
       "      <th></th>\n",
       "      <th>age</th>\n",
       "      <th>sex</th>\n",
       "      <th>bmi</th>\n",
       "      <th>bp</th>\n",
       "      <th>s1</th>\n",
       "      <th>s2</th>\n",
       "      <th>s3</th>\n",
       "      <th>s4</th>\n",
       "      <th>s5</th>\n",
       "      <th>s6</th>\n",
       "    </tr>\n",
       "  </thead>\n",
       "  <tbody>\n",
       "    <tr>\n",
       "      <th>count</th>\n",
       "      <td>353.000000</td>\n",
       "      <td>353.000000</td>\n",
       "      <td>353.000000</td>\n",
       "      <td>353.000000</td>\n",
       "      <td>353.000000</td>\n",
       "      <td>353.000000</td>\n",
       "      <td>353.000000</td>\n",
       "      <td>353.000000</td>\n",
       "      <td>353.000000</td>\n",
       "      <td>353.000000</td>\n",
       "    </tr>\n",
       "    <tr>\n",
       "      <th>mean</th>\n",
       "      <td>48.702550</td>\n",
       "      <td>1.464589</td>\n",
       "      <td>26.443059</td>\n",
       "      <td>94.845071</td>\n",
       "      <td>189.685552</td>\n",
       "      <td>116.046459</td>\n",
       "      <td>49.691218</td>\n",
       "      <td>4.091360</td>\n",
       "      <td>4.650808</td>\n",
       "      <td>91.036827</td>\n",
       "    </tr>\n",
       "    <tr>\n",
       "      <th>std</th>\n",
       "      <td>12.931174</td>\n",
       "      <td>0.499452</td>\n",
       "      <td>4.437202</td>\n",
       "      <td>13.785792</td>\n",
       "      <td>35.535917</td>\n",
       "      <td>31.007750</td>\n",
       "      <td>12.932445</td>\n",
       "      <td>1.277652</td>\n",
       "      <td>0.513401</td>\n",
       "      <td>11.249056</td>\n",
       "    </tr>\n",
       "    <tr>\n",
       "      <th>min</th>\n",
       "      <td>19.000000</td>\n",
       "      <td>1.000000</td>\n",
       "      <td>18.000000</td>\n",
       "      <td>62.000000</td>\n",
       "      <td>97.000000</td>\n",
       "      <td>41.600000</td>\n",
       "      <td>22.000000</td>\n",
       "      <td>2.000000</td>\n",
       "      <td>3.258100</td>\n",
       "      <td>58.000000</td>\n",
       "    </tr>\n",
       "    <tr>\n",
       "      <th>25%</th>\n",
       "      <td>39.000000</td>\n",
       "      <td>1.000000</td>\n",
       "      <td>23.400000</td>\n",
       "      <td>84.000000</td>\n",
       "      <td>164.000000</td>\n",
       "      <td>96.600000</td>\n",
       "      <td>40.000000</td>\n",
       "      <td>3.000000</td>\n",
       "      <td>4.304100</td>\n",
       "      <td>84.000000</td>\n",
       "    </tr>\n",
       "    <tr>\n",
       "      <th>50%</th>\n",
       "      <td>50.000000</td>\n",
       "      <td>1.000000</td>\n",
       "      <td>25.700000</td>\n",
       "      <td>93.000000</td>\n",
       "      <td>187.000000</td>\n",
       "      <td>113.600000</td>\n",
       "      <td>48.000000</td>\n",
       "      <td>4.000000</td>\n",
       "      <td>4.634700</td>\n",
       "      <td>91.000000</td>\n",
       "    </tr>\n",
       "    <tr>\n",
       "      <th>75%</th>\n",
       "      <td>58.000000</td>\n",
       "      <td>2.000000</td>\n",
       "      <td>29.300000</td>\n",
       "      <td>105.000000</td>\n",
       "      <td>211.000000</td>\n",
       "      <td>135.800000</td>\n",
       "      <td>58.000000</td>\n",
       "      <td>5.000000</td>\n",
       "      <td>5.010600</td>\n",
       "      <td>98.000000</td>\n",
       "    </tr>\n",
       "    <tr>\n",
       "      <th>max</th>\n",
       "      <td>79.000000</td>\n",
       "      <td>2.000000</td>\n",
       "      <td>42.200000</td>\n",
       "      <td>133.000000</td>\n",
       "      <td>301.000000</td>\n",
       "      <td>242.400000</td>\n",
       "      <td>99.000000</td>\n",
       "      <td>9.090000</td>\n",
       "      <td>6.107000</td>\n",
       "      <td>124.000000</td>\n",
       "    </tr>\n",
       "  </tbody>\n",
       "</table>\n",
       "</div>"
      ],
      "text/plain": [
       "              age         sex         bmi          bp          s1          s2  \\\n",
       "count  353.000000  353.000000  353.000000  353.000000  353.000000  353.000000   \n",
       "mean    48.702550    1.464589   26.443059   94.845071  189.685552  116.046459   \n",
       "std     12.931174    0.499452    4.437202   13.785792   35.535917   31.007750   \n",
       "min     19.000000    1.000000   18.000000   62.000000   97.000000   41.600000   \n",
       "25%     39.000000    1.000000   23.400000   84.000000  164.000000   96.600000   \n",
       "50%     50.000000    1.000000   25.700000   93.000000  187.000000  113.600000   \n",
       "75%     58.000000    2.000000   29.300000  105.000000  211.000000  135.800000   \n",
       "max     79.000000    2.000000   42.200000  133.000000  301.000000  242.400000   \n",
       "\n",
       "               s3          s4          s5          s6  \n",
       "count  353.000000  353.000000  353.000000  353.000000  \n",
       "mean    49.691218    4.091360    4.650808   91.036827  \n",
       "std     12.932445    1.277652    0.513401   11.249056  \n",
       "min     22.000000    2.000000    3.258100   58.000000  \n",
       "25%     40.000000    3.000000    4.304100   84.000000  \n",
       "50%     48.000000    4.000000    4.634700   91.000000  \n",
       "75%     58.000000    5.000000    5.010600   98.000000  \n",
       "max     99.000000    9.090000    6.107000  124.000000  "
      ]
     },
     "execution_count": 127,
     "metadata": {},
     "output_type": "execute_result"
    }
   ],
   "source": [
    "x_train.describe()"
   ]
  },
  {
   "cell_type": "code",
   "execution_count": 128,
   "metadata": {},
   "outputs": [
    {
     "data": {
      "text/plain": [
       "count    353.000000\n",
       "mean     152.314448\n",
       "std       76.714866\n",
       "min       25.000000\n",
       "25%       87.000000\n",
       "50%      141.000000\n",
       "75%      214.000000\n",
       "max      346.000000\n",
       "Name: target, dtype: float64"
      ]
     },
     "execution_count": 128,
     "metadata": {},
     "output_type": "execute_result"
    }
   ],
   "source": [
    "y_train.describe()"
   ]
  },
  {
   "cell_type": "code",
   "execution_count": 129,
   "metadata": {},
   "outputs": [
    {
     "data": {
      "text/plain": [
       "age       0\n",
       "sex       0\n",
       "bmi       0\n",
       "bp        0\n",
       "s1        0\n",
       "s2        0\n",
       "s3        0\n",
       "s4        0\n",
       "s5        0\n",
       "s6        0\n",
       "target    0\n",
       "dtype: int64"
      ]
     },
     "execution_count": 129,
     "metadata": {},
     "output_type": "execute_result"
    }
   ],
   "source": [
    "data.isna().sum()"
   ]
  },
  {
   "cell_type": "code",
   "execution_count": 130,
   "metadata": {},
   "outputs": [],
   "source": [
    "def get_regressors():\n",
    "    c1 = DummyRegressor(strategy='mean')\n",
    "    c2 = DummyRegressor(strategy='median')\n",
    "    c3 = DummyRegressor(strategy='quantile', quantile=0.5)\n",
    "    c4 = DummyRegressor(strategy='constant', constant=0.1)\n",
    "    return [c1, c2, c3, c4]\n",
    "\n",
    "c1, c2, c3, c4 = get_classifiers()"
   ]
  },
  {
   "cell_type": "code",
   "execution_count": 131,
   "metadata": {},
   "outputs": [],
   "source": [
    "def regression_metrics(y_true, y_pred):\n",
    "\n",
    "    # media da diferença absoluta entre os valores reais e os valores previstos\n",
    "    # quanto mais próximo de 0 melhor\n",
    "    mae = mean_absolute_error(y_true, y_pred)\n",
    "\n",
    "    # media da diferença quadrática entre os valores reais e os valores previstos\n",
    "    # quanto mais próximo de 0 melhor\n",
    "    mse = mean_squared_error(y_true, y_pred, squared=True)\n",
    "\n",
    "    # raiz quadrada da media da diferença quadrática entre os valores reais e os valores previstos\n",
    "    # quanto mais próximo de 0 melhor\n",
    "    rmse = mean_squared_error(y_true, y_pred, squared=False)\n",
    "\n",
    "    # percentual de variação dos valores reais que podem ser explicados pelo modelo\n",
    "    # quanto mais próximo de 1 melhor\n",
    "    r2 = r2_score(y_true,y_pred)\n",
    "\n",
    "    print(\"2) The Mean Absolute Error of model is:\", np.round(mae, 2))\n",
    "    print(\"3) The Mean Squared Error of model is:\", np.round(mse, 2))\n",
    "    print(\"4) The Root Mean Squared Error of model is:\", np.round(rmse, 2))\n",
    "    print(\"5) The R-Square score of the model is \" , np.round(r2, 2))"
   ]
  },
  {
   "cell_type": "code",
   "execution_count": 132,
   "metadata": {},
   "outputs": [],
   "source": [
    "r1, r2, r3, r4 = get_regressors()\n",
    "kfold = KFold(n_splits=10, shuffle=True)\n",
    "results = []"
   ]
  },
  {
   "cell_type": "code",
   "execution_count": 149,
   "metadata": {},
   "outputs": [
    {
     "name": "stdout",
     "output_type": "stream",
     "text": [
      "2) The Mean Absolute Error of model is: 65.32\n",
      "3) The Mean Squared Error of model is: 6173.52\n",
      "4) The Root Mean Squared Error of model is: 78.57\n",
      "5) The R-Square score of the model is  -0.0\n"
     ]
    }
   ],
   "source": [
    "c1.fit(x_train, y_train)\n",
    "c1.score(x_test, y_test)\n",
    "y_pred = c1.predict(x_test)\n",
    "\n",
    "regression_metrics(y_test, y_pred)"
   ]
  },
  {
   "cell_type": "code",
   "execution_count": 150,
   "metadata": {},
   "outputs": [
    {
     "data": {
      "text/plain": [
       "[<matplotlib.lines.Line2D at 0x12dc44a10>]"
      ]
     },
     "execution_count": 150,
     "metadata": {},
     "output_type": "execute_result"
    },
    {
     "data": {
      "image/png": "[encoded data removed]",
      "text/plain": [
       "<Figure size 1000x700 with 1 Axes>"
      ]
     },
     "metadata": {},
     "output_type": "display_data"
    }
   ],
   "source": [
    "plt.figure(figsize=(10, 7))\n",
    "plt.scatter(y_test, y_pred)\n",
    "plt.plot(y_test, y_test, color='r')\n",
    "#plt.savefig('diabetes.png')"
   ]
  },
  {
   "cell_type": "code",
   "execution_count": 151,
   "metadata": {},
   "outputs": [
    {
     "name": "stdout",
     "output_type": "stream",
     "text": [
      "2) The Mean Absolute Error of model is: 65.32\n",
      "3) The Mean Squared Error of model is: 6173.52\n",
      "4) The Root Mean Squared Error of model is: 78.57\n",
      "5) The R-Square score of the model is  -0.0\n"
     ]
    }
   ],
   "source": [
    "c2.fit(x_train, y_train)\n",
    "c2.score(x_test, y_test)\n",
    "y_pred = c2.predict(x_test)\n",
    "\n",
    "regression_metrics(y_test, y_pred)"
   ]
  },
  {
   "cell_type": "code",
   "execution_count": 152,
   "metadata": {},
   "outputs": [
    {
     "data": {
      "text/plain": [
       "[<matplotlib.lines.Line2D at 0x12dc525d0>]"
      ]
     },
     "execution_count": 152,
     "metadata": {},
     "output_type": "execute_result"
    },
    {
     "data": {
      "image/png": "[encoded data removed]",
      "text/plain": [
       "<Figure size 1000x700 with 1 Axes>"
      ]
     },
     "metadata": {},
     "output_type": "display_data"
    }
   ],
   "source": [
    "plt.figure(figsize=(10, 7))\n",
    "plt.scatter(y_test, y_pred)\n",
    "plt.plot(y_test, y_test, color='r')\n",
    "#plt.savefig('median.png')"
   ]
  },
  {
   "cell_type": "code",
   "execution_count": 153,
   "metadata": {},
   "outputs": [
    {
     "name": "stdout",
     "output_type": "stream",
     "text": [
      "2) The Mean Absolute Error of model is: 65.32\n",
      "3) The Mean Squared Error of model is: 6173.52\n",
      "4) The Root Mean Squared Error of model is: 78.57\n",
      "5) The R-Square score of the model is  -0.0\n"
     ]
    }
   ],
   "source": [
    "c3.fit(x_train, y_train)\n",
    "c3.score(x_test, y_test)\n",
    "y_pred = c3.predict(x_test)\n",
    "\n",
    "regression_metrics(y_test, y_pred)"
   ]
  },
  {
   "cell_type": "code",
   "execution_count": 154,
   "metadata": {},
   "outputs": [
    {
     "data": {
      "text/plain": [
       "[<matplotlib.lines.Line2D at 0x12dd4a450>]"
      ]
     },
     "execution_count": 154,
     "metadata": {},
     "output_type": "execute_result"
    },
    {
     "data": {
      "image/png": "[encoded data removed]",
      "text/plain": [
       "<Figure size 1000x700 with 1 Axes>"
      ]
     },
     "metadata": {},
     "output_type": "display_data"
    }
   ],
   "source": [
    "plt.figure(figsize=(10, 7))\n",
    "plt.scatter(y_test, y_pred)\n",
    "plt.plot(y_test, y_test, color='r')\n",
    "#plt.savefig('quantile.png')"
   ]
  },
  {
   "cell_type": "code",
   "execution_count": 155,
   "metadata": {},
   "outputs": [
    {
     "name": "stdout",
     "output_type": "stream",
     "text": [
      "2) The Mean Absolute Error of model is: 151.32\n",
      "3) The Mean Squared Error of model is: 29069.17\n",
      "4) The Root Mean Squared Error of model is: 170.5\n",
      "5) The R-Square score of the model is  -3.71\n"
     ]
    }
   ],
   "source": [
    "c4.fit(x_train, y_train)\n",
    "c4.score(x_test, y_test)\n",
    "y_pred = c4.predict(x_test)\n",
    "\n",
    "regression_metrics(y_test, y_pred)"
   ]
  },
  {
   "cell_type": "code",
   "execution_count": 156,
   "metadata": {},
   "outputs": [
    {
     "data": {
      "text/plain": [
       "[<matplotlib.lines.Line2D at 0x12ddf7290>]"
      ]
     },
     "execution_count": 156,
     "metadata": {},
     "output_type": "execute_result"
    },
    {
     "data": {
      "image/png": "[encoded data removed]",
      "text/plain": [
       "<Figure size 1000x700 with 1 Axes>"
      ]
     },
     "metadata": {},
     "output_type": "display_data"
    }
   ],
   "source": [
    "plt.figure(figsize=(10, 7))\n",
    "plt.scatter(y_test, y_pred)\n",
    "plt.plot(y_test, y_test, color='r')\n",
    "#plt.savefig('constant.png')"
   ]
  },
  {
   "cell_type": "code",
   "execution_count": 133,
   "metadata": {},
   "outputs": [],
   "source": [
    "result_r1 = cross_val_score(r1, x_train, y_train, cv=kfold);\n",
    "for i, score in enumerate(result_r1):\n",
    "    results.append({\n",
    "        'model': 'mean',\n",
    "        'fold': i,\n",
    "        'r2': score\n",
    "    })"
   ]
  },
  {
   "cell_type": "code",
   "execution_count": 134,
   "metadata": {},
   "outputs": [],
   "source": [
    "result_r2 = cross_val_score(r2, x_train, y_train, cv=kfold);\n",
    "for i, score in enumerate(result_r2):\n",
    "    results.append({\n",
    "        'model': 'median',\n",
    "        'fold': i,\n",
    "        'r2': score\n",
    "    })"
   ]
  },
  {
   "cell_type": "code",
   "execution_count": 135,
   "metadata": {},
   "outputs": [],
   "source": [
    "result_r3 = cross_val_score(r3, x_train, y_train, cv=kfold);\n",
    "for i, score in enumerate(result_r3):\n",
    "    results.append({\n",
    "        'model': 'quantile',\n",
    "        'fold': i,\n",
    "        'r2': score\n",
    "    })"
   ]
  },
  {
   "cell_type": "code",
   "execution_count": 136,
   "metadata": {},
   "outputs": [],
   "source": [
    "result_r4 = cross_val_score(r4, x_train, y_train, cv=kfold);\n",
    "for i, score in enumerate(result_r4):\n",
    "    results.append({\n",
    "        'model': 'constant',\n",
    "        'fold': i,\n",
    "        'r2': score\n",
    "    })"
   ]
  },
  {
   "cell_type": "code",
   "execution_count": 147,
   "metadata": {},
   "outputs": [
    {
     "data": {
      "text/html": [
       "<div>\n",
       "<style scoped>\n",
       "    .dataframe tbody tr th:only-of-type {\n",
       "        vertical-align: middle;\n",
       "    }\n",
       "\n",
       "    .dataframe tbody tr th {\n",
       "        vertical-align: top;\n",
       "    }\n",
       "\n",
       "    .dataframe thead th {\n",
       "        text-align: right;\n",
       "    }\n",
       "</style>\n",
       "<table border=\"1\" class=\"dataframe\">\n",
       "  <thead>\n",
       "    <tr style=\"text-align: right;\">\n",
       "      <th></th>\n",
       "      <th>model</th>\n",
       "      <th>fold</th>\n",
       "      <th>r2</th>\n",
       "    </tr>\n",
       "  </thead>\n",
       "  <tbody>\n",
       "    <tr>\n",
       "      <th>0</th>\n",
       "      <td>mean</td>\n",
       "      <td>0</td>\n",
       "      <td>-0.009321</td>\n",
       "    </tr>\n",
       "    <tr>\n",
       "      <th>1</th>\n",
       "      <td>mean</td>\n",
       "      <td>1</td>\n",
       "      <td>-0.005125</td>\n",
       "    </tr>\n",
       "    <tr>\n",
       "      <th>2</th>\n",
       "      <td>mean</td>\n",
       "      <td>2</td>\n",
       "      <td>-0.010947</td>\n",
       "    </tr>\n",
       "    <tr>\n",
       "      <th>3</th>\n",
       "      <td>mean</td>\n",
       "      <td>3</td>\n",
       "      <td>-0.008291</td>\n",
       "    </tr>\n",
       "    <tr>\n",
       "      <th>4</th>\n",
       "      <td>mean</td>\n",
       "      <td>4</td>\n",
       "      <td>-0.044975</td>\n",
       "    </tr>\n",
       "  </tbody>\n",
       "</table>\n",
       "</div>"
      ],
      "text/plain": [
       "  model  fold        r2\n",
       "0  mean     0 -0.009321\n",
       "1  mean     1 -0.005125\n",
       "2  mean     2 -0.010947\n",
       "3  mean     3 -0.008291\n",
       "4  mean     4 -0.044975"
      ]
     },
     "execution_count": 147,
     "metadata": {},
     "output_type": "execute_result"
    }
   ],
   "source": [
    "df_results = pd.DataFrame(results)\n",
    "df_results.head()"
   ]
  },
  {
   "cell_type": "code",
   "execution_count": 165,
   "metadata": {},
   "outputs": [
    {
     "data": {
      "text/plain": [
       "<Axes: >"
      ]
     },
     "execution_count": 165,
     "metadata": {},
     "output_type": "execute_result"
    },
    {
     "data": {
      "image/png": "[encoded data removed]",
      "text/plain": [
       "<Figure size 640x480 with 1 Axes>"
      ]
     },
     "metadata": {},
     "output_type": "display_data"
    }
   ],
   "source": [
    "sns.boxplot(data=[df_results[df_results['model'] == 'mean']['r2'],\n",
    "df_results[df_results['model'] == 'median']['r2'],\n",
    "df_results[df_results['model'] == 'quantile']['r2'],\n",
    "df_results[df_results['model'] == 'constant']['r2']])"
   ]
  },
  {
   "cell_type": "code",
   "execution_count": 139,
   "metadata": {},
   "outputs": [
    {
     "data": {
      "text/html": [
       "<table class=\"simpletable\">\n",
       "<tr>\n",
       "    <td></td>   <th>F Value</th> <th>Num DF</th> <th>Den DF</th>  <th>Pr > F</th>\n",
       "</tr>\n",
       "<tr>\n",
       "  <th>fold</th> <td>1.3625</td>  <td>9.0000</td> <td>27.0000</td> <td>0.2531</td>\n",
       "</tr>\n",
       "</table><br/>\n"
      ],
      "text/latex": [
       "\\begin{table}\n",
       "\\caption{Anova}\n",
       "\\label{}\n",
       "\\begin{center}\n",
       "\\begin{tabular}{lrrrr}\n",
       "\\hline\n",
       "     & F Value & Num DF &  Den DF & Pr $>$ F  \\\\\n",
       "\\hline\n",
       "fold &  1.3625 & 9.0000 & 27.0000 &   0.2531  \\\\\n",
       "\\hline\n",
       "\\end{tabular}\n",
       "\\end{center}\n",
       "\\end{table}\n",
       "\\bigskip\n"
      ],
      "text/plain": [
       "<class 'statsmodels.iolib.summary2.Summary'>\n",
       "\"\"\"\n",
       "              Anova\n",
       "==================================\n",
       "     F Value Num DF  Den DF Pr > F\n",
       "----------------------------------\n",
       "fold  1.3625 9.0000 27.0000 0.2531\n",
       "==================================\n",
       "\n",
       "\"\"\""
      ]
     },
     "execution_count": 139,
     "metadata": {},
     "output_type": "execute_result"
    }
   ],
   "source": [
    "anova = AnovaRM(data=df_results, depvar='r2', subject='model', within=['fold']).fit()\n",
    "anova.summary()"
   ]
  },
  {
   "cell_type": "code",
   "execution_count": 163,
   "metadata": {},
   "outputs": [
    {
     "name": "stdout",
     "output_type": "stream",
     "text": [
      "Test Multiple Comparison ttest_rel \n",
      "FWER=0.05 method=bonferroni\n",
      "alphacSidak=0.01, alphacBonf=0.008\n",
      "==================================================\n",
      " group1   group2    stat    pval  pval_corr reject\n",
      "--------------------------------------------------\n",
      "constant     mean -27.3412    0.0       0.0   True\n",
      "constant   median -27.9119    0.0       0.0   True\n",
      "constant quantile -27.9012    0.0       0.0   True\n",
      "    mean   median   2.4973  0.034    0.2041  False\n",
      "    mean quantile   1.2947 0.2276       1.0  False\n",
      "  median quantile  -1.5472 0.1562    0.9373  False\n",
      "--------------------------------------------------\n"
     ]
    }
   ],
   "source": [
    "multi_comp = MultiComparison(df_results[\"r2\"], df_results[\"model\"])\n",
    "bonferroni_results = multi_comp.allpairtest(ttest_rel, method=\"bonferroni\")\n",
    "print(bonferroni_results[0])"
   ]
  }
 ],
 "metadata": {
  "kernelspec": {
   "display_name": "Python 3",
   "language": "python",
   "name": "python3"
  },
  "language_info": {
   "codemirror_mode": {
    "name": "ipython",
    "version": 3
   },
   "file_extension": ".py",
   "mimetype": "text/x-python",
   "name": "python",
   "nbconvert_exporter": "python",
   "pygments_lexer": "ipython3",
   "version": "3.11.3"
  },
  "orig_nbformat": 4
 },
 "nbformat": 4,
 "nbformat_minor": 2
}
