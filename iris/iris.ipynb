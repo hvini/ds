{
 "cells": [
  {
   "cell_type": "code",
   "execution_count": 285,
   "metadata": {},
   "outputs": [],
   "source": [
    "from statsmodels.stats.multicomp import MultiComparison\n",
    "from sklearn.model_selection import train_test_split\n",
    "from sklearn.linear_model import LogisticRegression\n",
    "from sklearn.neighbors import KNeighborsClassifier\n",
    "from sklearn.tree import DecisionTreeClassifier\n",
    "from statsmodels.stats.anova import AnovaRM\n",
    "from sklearn.metrics import accuracy_score\n",
    "from sklearn.model_selection import KFold\n",
    "from sklearn.datasets import load_iris\n",
    "from scipy.stats import ttest_rel\n",
    "import matplotlib.pyplot as plt\n",
    "import seaborn as sns\n",
    "import pandas as pd\n",
    "import numpy as np"
   ]
  },
  {
   "cell_type": "code",
   "execution_count": 286,
   "metadata": {},
   "outputs": [],
   "source": [
    "SEED = 42\n",
    "np.random.seed(SEED)"
   ]
  },
  {
   "cell_type": "code",
   "execution_count": 287,
   "metadata": {},
   "outputs": [],
   "source": [
    "iris = load_iris(as_frame=True)"
   ]
  },
  {
   "cell_type": "code",
   "execution_count": 288,
   "metadata": {},
   "outputs": [],
   "source": [
    "x = iris[\"data\"]\n",
    "y = iris[\"target\"]"
   ]
  },
  {
   "cell_type": "markdown",
   "metadata": {},
   "source": [
    "Separando conjunto de testes para report final"
   ]
  },
  {
   "cell_type": "code",
   "execution_count": 289,
   "metadata": {},
   "outputs": [
    {
     "data": {
      "text/html": [
       "<div>\n",
       "<style scoped>\n",
       "    .dataframe tbody tr th:only-of-type {\n",
       "        vertical-align: middle;\n",
       "    }\n",
       "\n",
       "    .dataframe tbody tr th {\n",
       "        vertical-align: top;\n",
       "    }\n",
       "\n",
       "    .dataframe thead th {\n",
       "        text-align: right;\n",
       "    }\n",
       "</style>\n",
       "<table border=\"1\" class=\"dataframe\">\n",
       "  <thead>\n",
       "    <tr style=\"text-align: right;\">\n",
       "      <th></th>\n",
       "      <th>sepal length (cm)</th>\n",
       "      <th>sepal width (cm)</th>\n",
       "      <th>petal length (cm)</th>\n",
       "      <th>petal width (cm)</th>\n",
       "    </tr>\n",
       "  </thead>\n",
       "  <tbody>\n",
       "    <tr>\n",
       "      <th>count</th>\n",
       "      <td>150.000000</td>\n",
       "      <td>150.000000</td>\n",
       "      <td>150.000000</td>\n",
       "      <td>150.000000</td>\n",
       "    </tr>\n",
       "    <tr>\n",
       "      <th>mean</th>\n",
       "      <td>5.843333</td>\n",
       "      <td>3.057333</td>\n",
       "      <td>3.758000</td>\n",
       "      <td>1.199333</td>\n",
       "    </tr>\n",
       "    <tr>\n",
       "      <th>std</th>\n",
       "      <td>0.828066</td>\n",
       "      <td>0.435866</td>\n",
       "      <td>1.765298</td>\n",
       "      <td>0.762238</td>\n",
       "    </tr>\n",
       "    <tr>\n",
       "      <th>min</th>\n",
       "      <td>4.300000</td>\n",
       "      <td>2.000000</td>\n",
       "      <td>1.000000</td>\n",
       "      <td>0.100000</td>\n",
       "    </tr>\n",
       "    <tr>\n",
       "      <th>25%</th>\n",
       "      <td>5.100000</td>\n",
       "      <td>2.800000</td>\n",
       "      <td>1.600000</td>\n",
       "      <td>0.300000</td>\n",
       "    </tr>\n",
       "    <tr>\n",
       "      <th>50%</th>\n",
       "      <td>5.800000</td>\n",
       "      <td>3.000000</td>\n",
       "      <td>4.350000</td>\n",
       "      <td>1.300000</td>\n",
       "    </tr>\n",
       "    <tr>\n",
       "      <th>75%</th>\n",
       "      <td>6.400000</td>\n",
       "      <td>3.300000</td>\n",
       "      <td>5.100000</td>\n",
       "      <td>1.800000</td>\n",
       "    </tr>\n",
       "    <tr>\n",
       "      <th>max</th>\n",
       "      <td>7.900000</td>\n",
       "      <td>4.400000</td>\n",
       "      <td>6.900000</td>\n",
       "      <td>2.500000</td>\n",
       "    </tr>\n",
       "  </tbody>\n",
       "</table>\n",
       "</div>"
      ],
      "text/plain": [
       "       sepal length (cm)  sepal width (cm)  petal length (cm)  \\\n",
       "count         150.000000        150.000000         150.000000   \n",
       "mean            5.843333          3.057333           3.758000   \n",
       "std             0.828066          0.435866           1.765298   \n",
       "min             4.300000          2.000000           1.000000   \n",
       "25%             5.100000          2.800000           1.600000   \n",
       "50%             5.800000          3.000000           4.350000   \n",
       "75%             6.400000          3.300000           5.100000   \n",
       "max             7.900000          4.400000           6.900000   \n",
       "\n",
       "       petal width (cm)  \n",
       "count        150.000000  \n",
       "mean           1.199333  \n",
       "std            0.762238  \n",
       "min            0.100000  \n",
       "25%            0.300000  \n",
       "50%            1.300000  \n",
       "75%            1.800000  \n",
       "max            2.500000  "
      ]
     },
     "execution_count": 289,
     "metadata": {},
     "output_type": "execute_result"
    }
   ],
   "source": [
    "x.describe()"
   ]
  },
  {
   "cell_type": "code",
   "execution_count": 290,
   "metadata": {},
   "outputs": [
    {
     "data": {
      "text/plain": [
       "count    150.000000\n",
       "mean       1.000000\n",
       "std        0.819232\n",
       "min        0.000000\n",
       "25%        0.000000\n",
       "50%        1.000000\n",
       "75%        2.000000\n",
       "max        2.000000\n",
       "Name: target, dtype: float64"
      ]
     },
     "execution_count": 290,
     "metadata": {},
     "output_type": "execute_result"
    }
   ],
   "source": [
    "y.describe()"
   ]
  },
  {
   "cell_type": "code",
   "execution_count": 291,
   "metadata": {},
   "outputs": [
    {
     "data": {
      "text/plain": [
       "sepal length (cm)    0\n",
       "sepal width (cm)     0\n",
       "petal length (cm)    0\n",
       "petal width (cm)     0\n",
       "dtype: int64"
      ]
     },
     "execution_count": 291,
     "metadata": {},
     "output_type": "execute_result"
    }
   ],
   "source": [
    "x.isnull().sum()"
   ]
  },
  {
   "cell_type": "markdown",
   "metadata": {},
   "source": [
    "Verificando a distribuição das classes"
   ]
  },
  {
   "cell_type": "code",
   "execution_count": 292,
   "metadata": {},
   "outputs": [
    {
     "data": {
      "text/plain": [
       "(array([50.,  0.,  0.,  0.,  0., 50.,  0.,  0.,  0., 50.]),\n",
       " array([0. , 0.2, 0.4, 0.6, 0.8, 1. , 1.2, 1.4, 1.6, 1.8, 2. ]),\n",
       " <BarContainer object of 10 artists>)"
      ]
     },
     "execution_count": 292,
     "metadata": {},
     "output_type": "execute_result"
    },
    {
     "data": {
      "image/png": "[encoded data removed]",
      "text/plain": [
       "<Figure size 640x480 with 1 Axes>"
      ]
     },
     "metadata": {},
     "output_type": "display_data"
    }
   ],
   "source": [
    "plt.hist(y)"
   ]
  },
  {
   "cell_type": "code",
   "execution_count": 293,
   "metadata": {},
   "outputs": [
    {
     "data": {
      "text/plain": [
       "<Axes: >"
      ]
     },
     "execution_count": 293,
     "metadata": {},
     "output_type": "execute_result"
    },
    {
     "data": {
      "image/png": "[encoded data removed]",
      "text/plain": [
       "<Figure size 640x480 with 1 Axes>"
      ]
     },
     "metadata": {},
     "output_type": "display_data"
    }
   ],
   "source": [
    "sns.boxplot([x[\"sepal length (cm)\"], x[\"sepal width (cm)\"], x[\"petal length (cm)\"]])"
   ]
  },
  {
   "cell_type": "code",
   "execution_count": 294,
   "metadata": {},
   "outputs": [],
   "source": [
    "x_train, x_test, y_train, y_test = train_test_split(x.values, y.values, test_size=.2, stratify=y, random_state=SEED)"
   ]
  },
  {
   "cell_type": "markdown",
   "metadata": {},
   "source": [
    "## Seleção de métrica e amostragem\n",
    "\n",
    "Existem 50 exemplos para cada classe, dessa forma, podemos utilizar a acurácia como métrica alvo.\n",
    "\n",
    "Apesar das classes estarem distribuídas igualmente, existem poucas amostras, dessa forma, é melhor utilizar algum método de amostragem estratificado. Utilizaremos o K-fold estratificado"
   ]
  },
  {
   "cell_type": "markdown",
   "metadata": {},
   "source": [
    "## Classificadores\n",
    "\n",
    "Iremos comparar dois classificadores diferentes"
   ]
  },
  {
   "cell_type": "code",
   "execution_count": 295,
   "metadata": {},
   "outputs": [],
   "source": [
    "def get_classifier1(complexity=1):\n",
    "    return KNeighborsClassifier(n_neighbors=complexity)\n",
    "\n",
    "\n",
    "def get_classifier2(complexity=1):\n",
    "    return DecisionTreeClassifier(max_depth=complexity, random_state=SEED)\n",
    "\n",
    "\n",
    "def get_classifier3():\n",
    "    return LogisticRegression(random_state=SEED, max_iter=120)"
   ]
  },
  {
   "cell_type": "markdown",
   "metadata": {},
   "source": [
    "## Treinando os classificadores"
   ]
  },
  {
   "cell_type": "markdown",
   "metadata": {},
   "source": [
    "Avaliando o classificador 1 e encontrando a melhor complexidade"
   ]
  },
  {
   "cell_type": "code",
   "execution_count": 296,
   "metadata": {},
   "outputs": [
    {
     "name": "stdout",
     "output_type": "stream",
     "text": [
      "Evaluating classifier 1\n"
     ]
    },
    {
     "data": {
      "text/plain": [
       "<matplotlib.legend.Legend at 0x127b83290>"
      ]
     },
     "execution_count": 296,
     "metadata": {},
     "output_type": "execute_result"
    },
    {
     "data": {
      "image/png": "[encoded data removed]",
      "text/plain": [
       "<Figure size 640x480 with 1 Axes>"
      ]
     },
     "metadata": {},
     "output_type": "display_data"
    }
   ],
   "source": [
    "mean_train_acc = []\n",
    "mean_val_acc = []\n",
    "\n",
    "MIN_COMPLEXITY=1\n",
    "MAX_COMPLEXITY=25\n",
    "\n",
    "print(f\"Evaluating classifier 1\")\n",
    "for curr_complexity in range(MIN_COMPLEXITY, MAX_COMPLEXITY + 1):\n",
    "    cl = get_classifier1(curr_complexity)\n",
    "\n",
    "    kf = KFold(n_splits=10, shuffle=True, random_state=SEED)\n",
    "    kf.get_n_splits(x_train)\n",
    "    train_acc = []\n",
    "    val_acc = []\n",
    "\n",
    "    for i, (train_index, val_index) in enumerate(kf.split(x_train)):\n",
    "\n",
    "        X_train2, y_train2 = x_train[train_index], y_train[train_index]\n",
    "        X_val, y_val = x_train[val_index], y_train[val_index]\n",
    "\n",
    "        cl.fit(X_train2, y_train2)\n",
    "        # Avaliar no treino\n",
    "        y_pred = cl.predict(X_train2)\n",
    "        acc = accuracy_score(y_train2, y_pred)\n",
    "        train_acc.append(acc)\n",
    "        # Avaliar na validação\n",
    "        y_pred = cl.predict(X_val)\n",
    "        acc = accuracy_score(y_val, y_pred)\n",
    "        val_acc.append(acc)\n",
    "\n",
    "    mean_train_acc.append(np.mean(train_acc))\n",
    "    mean_val_acc.append(np.mean(val_acc))\n",
    "\n",
    "x_fig = np.arange(MIN_COMPLEXITY, MAX_COMPLEXITY + 1)\n",
    "plt.plot(x_fig, mean_train_acc, label=\"Treino\")\n",
    "plt.plot(x_fig, mean_val_acc, label=\"Validação\")\n",
    "plt.legend(loc=\"upper right\")"
   ]
  },
  {
   "cell_type": "code",
   "execution_count": 297,
   "metadata": {},
   "outputs": [
    {
     "data": {
      "text/html": [
       "<div>\n",
       "<style scoped>\n",
       "    .dataframe tbody tr th:only-of-type {\n",
       "        vertical-align: middle;\n",
       "    }\n",
       "\n",
       "    .dataframe tbody tr th {\n",
       "        vertical-align: top;\n",
       "    }\n",
       "\n",
       "    .dataframe thead th {\n",
       "        text-align: right;\n",
       "    }\n",
       "</style>\n",
       "<table border=\"1\" class=\"dataframe\">\n",
       "  <thead>\n",
       "    <tr style=\"text-align: right;\">\n",
       "      <th></th>\n",
       "      <th>Classificador</th>\n",
       "      <th>Complexidade</th>\n",
       "      <th>Acc Treino</th>\n",
       "      <th>Acc Val</th>\n",
       "    </tr>\n",
       "  </thead>\n",
       "  <tbody>\n",
       "    <tr>\n",
       "      <th>0</th>\n",
       "      <td>C1</td>\n",
       "      <td>1</td>\n",
       "      <td>1.000000</td>\n",
       "      <td>0.950000</td>\n",
       "    </tr>\n",
       "    <tr>\n",
       "      <th>1</th>\n",
       "      <td>C1</td>\n",
       "      <td>2</td>\n",
       "      <td>0.974074</td>\n",
       "      <td>0.950000</td>\n",
       "    </tr>\n",
       "    <tr>\n",
       "      <th>2</th>\n",
       "      <td>C1</td>\n",
       "      <td>3</td>\n",
       "      <td>0.960185</td>\n",
       "      <td>0.950000</td>\n",
       "    </tr>\n",
       "    <tr>\n",
       "      <th>3</th>\n",
       "      <td>C1</td>\n",
       "      <td>4</td>\n",
       "      <td>0.961111</td>\n",
       "      <td>0.941667</td>\n",
       "    </tr>\n",
       "    <tr>\n",
       "      <th>4</th>\n",
       "      <td>C1</td>\n",
       "      <td>5</td>\n",
       "      <td>0.967593</td>\n",
       "      <td>0.966667</td>\n",
       "    </tr>\n",
       "    <tr>\n",
       "      <th>5</th>\n",
       "      <td>C1</td>\n",
       "      <td>6</td>\n",
       "      <td>0.966667</td>\n",
       "      <td>0.966667</td>\n",
       "    </tr>\n",
       "    <tr>\n",
       "      <th>6</th>\n",
       "      <td>C1</td>\n",
       "      <td>7</td>\n",
       "      <td>0.975926</td>\n",
       "      <td>0.950000</td>\n",
       "    </tr>\n",
       "    <tr>\n",
       "      <th>7</th>\n",
       "      <td>C1</td>\n",
       "      <td>8</td>\n",
       "      <td>0.974074</td>\n",
       "      <td>0.958333</td>\n",
       "    </tr>\n",
       "    <tr>\n",
       "      <th>8</th>\n",
       "      <td>C1</td>\n",
       "      <td>9</td>\n",
       "      <td>0.974074</td>\n",
       "      <td>0.958333</td>\n",
       "    </tr>\n",
       "    <tr>\n",
       "      <th>9</th>\n",
       "      <td>C1</td>\n",
       "      <td>10</td>\n",
       "      <td>0.973148</td>\n",
       "      <td>0.950000</td>\n",
       "    </tr>\n",
       "  </tbody>\n",
       "</table>\n",
       "</div>"
      ],
      "text/plain": [
       "  Classificador  Complexidade  Acc Treino   Acc Val\n",
       "0            C1             1    1.000000  0.950000\n",
       "1            C1             2    0.974074  0.950000\n",
       "2            C1             3    0.960185  0.950000\n",
       "3            C1             4    0.961111  0.941667\n",
       "4            C1             5    0.967593  0.966667\n",
       "5            C1             6    0.966667  0.966667\n",
       "6            C1             7    0.975926  0.950000\n",
       "7            C1             8    0.974074  0.958333\n",
       "8            C1             9    0.974074  0.958333\n",
       "9            C1            10    0.973148  0.950000"
      ]
     },
     "execution_count": 297,
     "metadata": {},
     "output_type": "execute_result"
    }
   ],
   "source": [
    "df_results = pd.DataFrame({\n",
    "    \"Classificador\": [\"C1\"] * MAX_COMPLEXITY,\n",
    "    \"Complexidade\": list(range(MIN_COMPLEXITY, MAX_COMPLEXITY + 1)),\n",
    "    \"Acc Treino\": mean_train_acc,\n",
    "    \"Acc Val\": mean_val_acc,\n",
    "})\n",
    "\n",
    "df_results.head(10)"
   ]
  },
  {
   "cell_type": "markdown",
   "metadata": {},
   "source": [
    "Para o classificador 1, a complexidade 8 apresentou o melhor balanço entre viés e variância, dessa forma, seguiremos com este valor.\n",
    "\n",
    "Avaliando o classificador 2"
   ]
  },
  {
   "cell_type": "code",
   "execution_count": 298,
   "metadata": {},
   "outputs": [
    {
     "name": "stdout",
     "output_type": "stream",
     "text": [
      "Evaluating classifier 2\n"
     ]
    },
    {
     "data": {
      "text/plain": [
       "<matplotlib.legend.Legend at 0x127cadf10>"
      ]
     },
     "execution_count": 298,
     "metadata": {},
     "output_type": "execute_result"
    },
    {
     "data": {
      "image/png": "[encoded data removed]",
      "text/plain": [
       "<Figure size 640x480 with 1 Axes>"
      ]
     },
     "metadata": {},
     "output_type": "display_data"
    }
   ],
   "source": [
    "mean_train_acc = []\n",
    "mean_val_acc = []\n",
    "\n",
    "MIN_COMPLEXITY=1\n",
    "MAX_COMPLEXITY=25\n",
    "\n",
    "\n",
    "print(f\"Evaluating classifier 2\")\n",
    "for curr_complexity in range(MIN_COMPLEXITY, MAX_COMPLEXITY + 1):\n",
    "    cl = get_classifier2(curr_complexity)\n",
    "        \n",
    "    kf = KFold(n_splits=10, shuffle=True, random_state=SEED)\n",
    "    kf.get_n_splits(x_train)\n",
    "    train_acc = []\n",
    "    val_acc = []\n",
    "    for i, (train_index, val_index) in enumerate(kf.split(x_train)):\n",
    "        X_train2, y_train2 = x_train[train_index], y_train[train_index]\n",
    "        X_val, y_val = x_train[val_index], y_train[val_index]\n",
    "\n",
    "        cl.fit(X_train2, y_train2)\n",
    "        # Avaliar no treino\n",
    "        y_pred = cl.predict(X_train2)\n",
    "        acc = accuracy_score(y_train2, y_pred)\n",
    "        train_acc.append(acc)\n",
    "        # Avaliar na validação\n",
    "        y_pred = cl.predict(X_val)\n",
    "        acc = accuracy_score(y_val, y_pred)\n",
    "        val_acc.append(acc)\n",
    "\n",
    "    mean_train_acc.append(np.mean(train_acc))\n",
    "    mean_val_acc.append(np.mean(val_acc))\n",
    "\n",
    "x_fig = np.arange(MIN_COMPLEXITY, MAX_COMPLEXITY + 1)\n",
    "plt.plot(x_fig, mean_train_acc, label=\"Treino\")\n",
    "plt.plot(x_fig, mean_val_acc, label=\"Validação\")\n",
    "plt.legend(loc=\"lower right\")"
   ]
  },
  {
   "cell_type": "code",
   "execution_count": 299,
   "metadata": {},
   "outputs": [
    {
     "data": {
      "text/html": [
       "<div>\n",
       "<style scoped>\n",
       "    .dataframe tbody tr th:only-of-type {\n",
       "        vertical-align: middle;\n",
       "    }\n",
       "\n",
       "    .dataframe tbody tr th {\n",
       "        vertical-align: top;\n",
       "    }\n",
       "\n",
       "    .dataframe thead th {\n",
       "        text-align: right;\n",
       "    }\n",
       "</style>\n",
       "<table border=\"1\" class=\"dataframe\">\n",
       "  <thead>\n",
       "    <tr style=\"text-align: right;\">\n",
       "      <th></th>\n",
       "      <th>Classificador</th>\n",
       "      <th>Complexidade</th>\n",
       "      <th>Acc Treino</th>\n",
       "      <th>Acc Val</th>\n",
       "    </tr>\n",
       "  </thead>\n",
       "  <tbody>\n",
       "    <tr>\n",
       "      <th>0</th>\n",
       "      <td>C2</td>\n",
       "      <td>1</td>\n",
       "      <td>0.679630</td>\n",
       "      <td>0.550000</td>\n",
       "    </tr>\n",
       "    <tr>\n",
       "      <th>1</th>\n",
       "      <td>C2</td>\n",
       "      <td>2</td>\n",
       "      <td>0.967593</td>\n",
       "      <td>0.916667</td>\n",
       "    </tr>\n",
       "    <tr>\n",
       "      <th>2</th>\n",
       "      <td>C2</td>\n",
       "      <td>3</td>\n",
       "      <td>0.980556</td>\n",
       "      <td>0.950000</td>\n",
       "    </tr>\n",
       "    <tr>\n",
       "      <th>3</th>\n",
       "      <td>C2</td>\n",
       "      <td>4</td>\n",
       "      <td>0.991667</td>\n",
       "      <td>0.933333</td>\n",
       "    </tr>\n",
       "    <tr>\n",
       "      <th>4</th>\n",
       "      <td>C2</td>\n",
       "      <td>5</td>\n",
       "      <td>0.999074</td>\n",
       "      <td>0.933333</td>\n",
       "    </tr>\n",
       "    <tr>\n",
       "      <th>5</th>\n",
       "      <td>C2</td>\n",
       "      <td>6</td>\n",
       "      <td>1.000000</td>\n",
       "      <td>0.933333</td>\n",
       "    </tr>\n",
       "    <tr>\n",
       "      <th>6</th>\n",
       "      <td>C2</td>\n",
       "      <td>7</td>\n",
       "      <td>1.000000</td>\n",
       "      <td>0.933333</td>\n",
       "    </tr>\n",
       "    <tr>\n",
       "      <th>7</th>\n",
       "      <td>C2</td>\n",
       "      <td>8</td>\n",
       "      <td>1.000000</td>\n",
       "      <td>0.933333</td>\n",
       "    </tr>\n",
       "    <tr>\n",
       "      <th>8</th>\n",
       "      <td>C2</td>\n",
       "      <td>9</td>\n",
       "      <td>1.000000</td>\n",
       "      <td>0.933333</td>\n",
       "    </tr>\n",
       "    <tr>\n",
       "      <th>9</th>\n",
       "      <td>C2</td>\n",
       "      <td>10</td>\n",
       "      <td>1.000000</td>\n",
       "      <td>0.933333</td>\n",
       "    </tr>\n",
       "  </tbody>\n",
       "</table>\n",
       "</div>"
      ],
      "text/plain": [
       "  Classificador  Complexidade  Acc Treino   Acc Val\n",
       "0            C2             1    0.679630  0.550000\n",
       "1            C2             2    0.967593  0.916667\n",
       "2            C2             3    0.980556  0.950000\n",
       "3            C2             4    0.991667  0.933333\n",
       "4            C2             5    0.999074  0.933333\n",
       "5            C2             6    1.000000  0.933333\n",
       "6            C2             7    1.000000  0.933333\n",
       "7            C2             8    1.000000  0.933333\n",
       "8            C2             9    1.000000  0.933333\n",
       "9            C2            10    1.000000  0.933333"
      ]
     },
     "execution_count": 299,
     "metadata": {},
     "output_type": "execute_result"
    }
   ],
   "source": [
    "df_results = pd.DataFrame({\n",
    "    \"Classificador\": [\"C2\"] * MAX_COMPLEXITY,\n",
    "    \"Complexidade\": list(range(MIN_COMPLEXITY, MAX_COMPLEXITY + 1)),\n",
    "    \"Acc Treino\": mean_train_acc,\n",
    "    \"Acc Val\": mean_val_acc,\n",
    "})\n",
    "\n",
    "df_results.head(10)"
   ]
  },
  {
   "cell_type": "markdown",
   "metadata": {},
   "source": [
    "Para o segundo classificador, a complexidade 3 apresentou o melhor desempenho na validação."
   ]
  },
  {
   "cell_type": "markdown",
   "metadata": {},
   "source": [
    "Avaliando o classificador 3 e encontrando a melhor complexidade"
   ]
  },
  {
   "cell_type": "code",
   "execution_count": 300,
   "metadata": {},
   "outputs": [
    {
     "name": "stdout",
     "output_type": "stream",
     "text": [
      "Evaluating classifier 3\n"
     ]
    },
    {
     "data": {
      "image/png": "[encoded data removed]",
      "text/plain": [
       "<Figure size 1000x500 with 1 Axes>"
      ]
     },
     "metadata": {},
     "output_type": "display_data"
    }
   ],
   "source": [
    "mean_train_acc = []\n",
    "mean_val_acc = []\n",
    "\n",
    "print(f\"Evaluating classifier 3\")\n",
    "cl = get_classifier3()\n",
    "\n",
    "kf = KFold(n_splits=10, shuffle=True, random_state=SEED)\n",
    "kf.get_n_splits(x_train)\n",
    "train_acc = []\n",
    "val_acc = []\n",
    "for i, (train_index, val_index) in enumerate(kf.split(x_train)):\n",
    "\n",
    "    X_train2, y_train2 = x_train[train_index], y_train[train_index]\n",
    "    X_val, y_val = x_train[val_index], y_train[val_index]\n",
    "\n",
    "    cl.fit(X_train2, y_train2)\n",
    "    # Avaliar no treino\n",
    "    y_pred = cl.predict(X_train2)\n",
    "    acc = accuracy_score(y_train2, y_pred)\n",
    "    train_acc.append(acc)\n",
    "    # Avaliar na validação\n",
    "    y_pred = cl.predict(X_val)\n",
    "    acc = accuracy_score(y_val, y_pred)\n",
    "    val_acc.append(acc)\n",
    "\n",
    "mean_train_acc.append(np.mean(train_acc))\n",
    "mean_val_acc.append(np.mean(val_acc))\n",
    "\n",
    "plt.figure(figsize=(10, 5))\n",
    "plt.plot(range(1, 11), train_acc, label=\"Treino\")\n",
    "plt.plot(range(1, 11), val_acc, label=\"Validação\")\n",
    "plt.xlabel(\"Fold\")\n",
    "plt.ylabel(\"Accuracy\")\n",
    "plt.legend()\n",
    "plt.show()"
   ]
  },
  {
   "cell_type": "code",
   "execution_count": 301,
   "metadata": {},
   "outputs": [
    {
     "data": {
      "text/html": [
       "<div>\n",
       "<style scoped>\n",
       "    .dataframe tbody tr th:only-of-type {\n",
       "        vertical-align: middle;\n",
       "    }\n",
       "\n",
       "    .dataframe tbody tr th {\n",
       "        vertical-align: top;\n",
       "    }\n",
       "\n",
       "    .dataframe thead th {\n",
       "        text-align: right;\n",
       "    }\n",
       "</style>\n",
       "<table border=\"1\" class=\"dataframe\">\n",
       "  <thead>\n",
       "    <tr style=\"text-align: right;\">\n",
       "      <th></th>\n",
       "      <th>Classificador</th>\n",
       "      <th>Acc Treino</th>\n",
       "      <th>Acc Val</th>\n",
       "    </tr>\n",
       "  </thead>\n",
       "  <tbody>\n",
       "    <tr>\n",
       "      <th>0</th>\n",
       "      <td>C3</td>\n",
       "      <td>0.973148</td>\n",
       "      <td>0.966667</td>\n",
       "    </tr>\n",
       "  </tbody>\n",
       "</table>\n",
       "</div>"
      ],
      "text/plain": [
       "  Classificador  Acc Treino   Acc Val\n",
       "0            C3    0.973148  0.966667"
      ]
     },
     "execution_count": 301,
     "metadata": {},
     "output_type": "execute_result"
    }
   ],
   "source": [
    "df_results = pd.DataFrame({\n",
    "    \"Classificador\": [\"C3\"],\n",
    "    \"Acc Treino\": mean_train_acc,\n",
    "    \"Acc Val\": mean_val_acc,\n",
    "})\n",
    "\n",
    "df_results"
   ]
  },
  {
   "cell_type": "markdown",
   "metadata": {},
   "source": [
    "Para o terceiro classificador, a complexidade 3 apresentou o melhor desempenho na validação."
   ]
  },
  {
   "cell_type": "markdown",
   "metadata": {},
   "source": [
    "## Comparando os tres classificadores"
   ]
  },
  {
   "cell_type": "code",
   "execution_count": 325,
   "metadata": {},
   "outputs": [
    {
     "data": {
      "text/html": [
       "<div>\n",
       "<style scoped>\n",
       "    .dataframe tbody tr th:only-of-type {\n",
       "        vertical-align: middle;\n",
       "    }\n",
       "\n",
       "    .dataframe tbody tr th {\n",
       "        vertical-align: top;\n",
       "    }\n",
       "\n",
       "    .dataframe thead th {\n",
       "        text-align: right;\n",
       "    }\n",
       "</style>\n",
       "<table border=\"1\" class=\"dataframe\">\n",
       "  <thead>\n",
       "    <tr style=\"text-align: right;\">\n",
       "      <th></th>\n",
       "      <th>Fold</th>\n",
       "      <th>Val acc</th>\n",
       "    </tr>\n",
       "    <tr>\n",
       "      <th>Modelo</th>\n",
       "      <th></th>\n",
       "      <th></th>\n",
       "    </tr>\n",
       "  </thead>\n",
       "  <tbody>\n",
       "    <tr>\n",
       "      <th>c1</th>\n",
       "      <td>4.5</td>\n",
       "      <td>0.958333</td>\n",
       "    </tr>\n",
       "    <tr>\n",
       "      <th>c2</th>\n",
       "      <td>4.5</td>\n",
       "      <td>0.950000</td>\n",
       "    </tr>\n",
       "    <tr>\n",
       "      <th>c3</th>\n",
       "      <td>4.5</td>\n",
       "      <td>0.966667</td>\n",
       "    </tr>\n",
       "  </tbody>\n",
       "</table>\n",
       "</div>"
      ],
      "text/plain": [
       "        Fold   Val acc\n",
       "Modelo                \n",
       "c1       4.5  0.958333\n",
       "c2       4.5  0.950000\n",
       "c3       4.5  0.966667"
      ]
     },
     "metadata": {},
     "output_type": "display_data"
    },
    {
     "name": "stdout",
     "output_type": "stream",
     "text": [
      "Statistics=0.557, p=0.591\n",
      "As distribuições são iguais (falha ao rejeitar H_0)\n"
     ]
    }
   ],
   "source": [
    "data = {\n",
    "    \"Fold\": [],\n",
    "    \"Modelo\": [],\n",
    "    \"Val acc\": [],\n",
    "}\n",
    "\n",
    "c1 = get_classifier1(8)\n",
    "c2 = get_classifier2(3)\n",
    "c3 = get_classifier3()\n",
    "\n",
    "for model_name, cl in {\n",
    "    \"c1\": c1,\n",
    "    \"c2\": c2,\n",
    "    \"c3\": c3,\n",
    "}.items():\n",
    "    kf = KFold(n_splits=10, shuffle=True, random_state=SEED)\n",
    "    kf.get_n_splits(x_train)\n",
    "    for i, (train_index, val_index) in enumerate(kf.split(x_train)):\n",
    "        X_train2, y_train2 = x_train[train_index], y_train[train_index]\n",
    "        X_val, y_val = x_train[val_index], y_train[val_index]\n",
    "\n",
    "        cl.fit(X_train2, y_train2)\n",
    "        # Avaliar na validação\n",
    "        y_pred = cl.predict(X_val)\n",
    "        acc = accuracy_score(y_val, y_pred)\n",
    "\n",
    "        data[\"Fold\"].append(i)\n",
    "        data[\"Modelo\"].append(model_name)\n",
    "        data[\"Val acc\"].append(acc)\n",
    "\n",
    "df_results = pd.DataFrame(data)\n",
    "display(df_results.groupby(\"Modelo\").mean())\n",
    "\n",
    "stat, p = ttest_rel(df_results[df_results[\"Modelo\"] == \"c1\"][\"Val acc\"], df_results[df_results[\"Modelo\"] == \"c2\"][\"Val acc\"])\n",
    "print('Statistics=%.3f, p=%.3f' % (stat, p))\n",
    "\n",
    "# Saída\n",
    "alpha = 0.05\n",
    "if p > alpha:\n",
    "\tprint('As distribuições são iguais (falha ao rejeitar H_0)')\n",
    "else:\n",
    "\tprint('As distribuições são diferentes! (rejeitar H_0)')"
   ]
  },
  {
   "cell_type": "code",
   "execution_count": 303,
   "metadata": {},
   "outputs": [
    {
     "data": {
      "text/html": [
       "<div>\n",
       "<style scoped>\n",
       "    .dataframe tbody tr th:only-of-type {\n",
       "        vertical-align: middle;\n",
       "    }\n",
       "\n",
       "    .dataframe tbody tr th {\n",
       "        vertical-align: top;\n",
       "    }\n",
       "\n",
       "    .dataframe thead th {\n",
       "        text-align: right;\n",
       "    }\n",
       "</style>\n",
       "<table border=\"1\" class=\"dataframe\">\n",
       "  <thead>\n",
       "    <tr style=\"text-align: right;\">\n",
       "      <th></th>\n",
       "      <th>Fold</th>\n",
       "      <th>Modelo</th>\n",
       "      <th>Val acc</th>\n",
       "    </tr>\n",
       "  </thead>\n",
       "  <tbody>\n",
       "    <tr>\n",
       "      <th>0</th>\n",
       "      <td>0</td>\n",
       "      <td>c1</td>\n",
       "      <td>0.916667</td>\n",
       "    </tr>\n",
       "    <tr>\n",
       "      <th>1</th>\n",
       "      <td>1</td>\n",
       "      <td>c1</td>\n",
       "      <td>1.000000</td>\n",
       "    </tr>\n",
       "    <tr>\n",
       "      <th>2</th>\n",
       "      <td>2</td>\n",
       "      <td>c1</td>\n",
       "      <td>1.000000</td>\n",
       "    </tr>\n",
       "    <tr>\n",
       "      <th>3</th>\n",
       "      <td>3</td>\n",
       "      <td>c1</td>\n",
       "      <td>0.916667</td>\n",
       "    </tr>\n",
       "    <tr>\n",
       "      <th>4</th>\n",
       "      <td>4</td>\n",
       "      <td>c1</td>\n",
       "      <td>0.916667</td>\n",
       "    </tr>\n",
       "  </tbody>\n",
       "</table>\n",
       "</div>"
      ],
      "text/plain": [
       "   Fold Modelo   Val acc\n",
       "0     0     c1  0.916667\n",
       "1     1     c1  1.000000\n",
       "2     2     c1  1.000000\n",
       "3     3     c1  0.916667\n",
       "4     4     c1  0.916667"
      ]
     },
     "execution_count": 303,
     "metadata": {},
     "output_type": "execute_result"
    }
   ],
   "source": [
    "df_results.head()"
   ]
  },
  {
   "cell_type": "code",
   "execution_count": 326,
   "metadata": {},
   "outputs": [
    {
     "data": {
      "text/html": [
       "<table class=\"simpletable\">\n",
       "<tr>\n",
       "    <td></td>   <th>F Value</th> <th>Num DF</th> <th>Den DF</th>  <th>Pr > F</th>\n",
       "</tr>\n",
       "<tr>\n",
       "  <th>Fold</th> <td>6.4894</td>  <td>9.0000</td> <td>18.0000</td> <td>0.0004</td>\n",
       "</tr>\n",
       "</table><br/>\n"
      ],
      "text/latex": [
       "\\begin{table}\n",
       "\\caption{Anova}\n",
       "\\label{}\n",
       "\\begin{center}\n",
       "\\begin{tabular}{lrrrr}\n",
       "\\hline\n",
       "     & F Value & Num DF &  Den DF & Pr $>$ F  \\\\\n",
       "\\hline\n",
       "Fold &  6.4894 & 9.0000 & 18.0000 &   0.0004  \\\\\n",
       "\\hline\n",
       "\\end{tabular}\n",
       "\\end{center}\n",
       "\\end{table}\n",
       "\\bigskip\n"
      ],
      "text/plain": [
       "<class 'statsmodels.iolib.summary2.Summary'>\n",
       "\"\"\"\n",
       "              Anova\n",
       "==================================\n",
       "     F Value Num DF  Den DF Pr > F\n",
       "----------------------------------\n",
       "Fold  6.4894 9.0000 18.0000 0.0004\n",
       "==================================\n",
       "\n",
       "\"\"\""
      ]
     },
     "execution_count": 326,
     "metadata": {},
     "output_type": "execute_result"
    }
   ],
   "source": [
    "anova = AnovaRM(data=df_results, depvar='Val acc', subject='Modelo', within=['Fold']).fit()\n",
    "anova.summary()"
   ]
  },
  {
   "cell_type": "code",
   "execution_count": 329,
   "metadata": {},
   "outputs": [
    {
     "name": "stdout",
     "output_type": "stream",
     "text": [
      "Test Multiple Comparison ttest_rel \n",
      "FWER=0.05 method=bonferroni\n",
      "alphacSidak=0.02, alphacBonf=0.017\n",
      "=============================================\n",
      "group1 group2   stat   pval  pval_corr reject\n",
      "---------------------------------------------\n",
      "    c1     c2  0.5571 0.5911       1.0  False\n",
      "    c1     c3 -0.5571 0.5911       1.0  False\n",
      "    c2     c3    -1.0 0.3434       1.0  False\n",
      "---------------------------------------------\n",
      "        Fold   Val acc\n",
      "Modelo                \n",
      "c1       4.5  0.958333\n",
      "c2       4.5  0.950000\n",
      "c3       4.5  0.966667\n",
      "        Fold   Val acc\n",
      "Modelo                \n",
      "c2       0.0 -0.008333\n",
      "c3       0.0  0.016667\n"
     ]
    }
   ],
   "source": [
    "multi_comp = MultiComparison(df_results[\"Val acc\"], df_results[\"Modelo\"])\n",
    "bonferroni_results = multi_comp.allpairtest(ttest_rel, method=\"bonferroni\")\n",
    "print(bonferroni_results[0])\n",
    "\n",
    "means = df_results.groupby(\"Modelo\").mean()\n",
    "print(means)\n",
    "diff = means.diff().dropna()\n",
    "print(diff)"
   ]
  }
 ],
 "metadata": {
  "kernelspec": {
   "display_name": "env",
   "language": "python",
   "name": "python3"
  },
  "language_info": {
   "codemirror_mode": {
    "name": "ipython",
    "version": 3
   },
   "file_extension": ".py",
   "mimetype": "text/x-python",
   "name": "python",
   "nbconvert_exporter": "python",
   "pygments_lexer": "ipython3",
   "version": "3.11.3"
  },
  "orig_nbformat": 4
 },
 "nbformat": 4,
 "nbformat_minor": 2
}
